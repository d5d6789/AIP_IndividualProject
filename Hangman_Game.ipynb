{
 "cells": [
  {
   "cell_type": "markdown",
   "metadata": {},
   "source": [
    "# Individual Project Theme 2\n",
    "## Hangman Game"
   ]
  },
  {
   "cell_type": "markdown",
   "metadata": {},
   "source": [
    "**How to use this notebook and complete the project?**\n",
    "\n",
    "1. You need to answer all required questions by answering in the markdown cell.\n",
    "2. Read the instruction and fill in the #todo sections.\n",
    "3. Run all the cells to store the results of each codes.\n",
    "4. Save this notebook by clicking on `File`, then click `Download as`, choose `HTML`.\n",
    "5. Push this notebook to your GitHub reporitory by creating a new repository, named `AIP_IndividualProject`. Set this repository as `Private` until the day of your submission, which is on *29th June 2019, 1.30 PM*."
   ]
  },
  {
   "cell_type": "markdown",
   "metadata": {},
   "source": [
    "**Instructions:**\n",
    "\n",
    "Let's build a game: Hangman! Have you ever heard about Hangman game?\n",
    "It's a game to guess a word letter-by-letter, but, if they make too many wrong guesses, they'll lose.\n",
    "\n",
    "Now, it's the time for you to make a hangman game where player can player with a computer.\n"
   ]
  },
  {
   "cell_type": "markdown",
   "metadata": {},
   "source": [
    "**Question 1**:\n",
    "\n",
    "Draw a flowchart to write the program of this game. You may draw a flowchart by using *powerpoint*, then save it as a picture in `.jpg` or `.png`. Then, use this command to the *Answer* column below.\n",
    "`<img src=_____.jpg>`"
   ]
  },
  {
   "cell_type": "markdown",
   "metadata": {},
   "source": [
    "**Answer**:<img src=flowchart.jpg>"
   ]
  },
  {
   "cell_type": "markdown",
   "metadata": {},
   "source": [
    "**Step 1**:\n",
    "\n",
    "Given a list of words, print a list of words at random."
   ]
  },
  {
   "cell_type": "code",
   "execution_count": 4,
   "metadata": {},
   "outputs": [
    {
     "name": "stdout",
     "output_type": "stream",
     "text": [
      "strong\n"
     ]
    }
   ],
   "source": [
    "from random import choice\n",
    "\n",
    "word = choice([\"pretty\", \"old\", \"young\", \"nice\", \"kind\", \"bad\", \"weak\", \"strong\", \"lazy\", \"weird\"])\n",
    "\n",
    "print(word)"
   ]
  },
  {
   "cell_type": "markdown",
   "metadata": {},
   "source": [
    "**Step 2**:\n",
    "\n",
    "#TODO\n",
    "\n",
    "Write a program to create the hangman game. Write the code in #TODO section. You are free to modified the code.\n",
    "Number of guesses is set to 3. While loop is used for each word that user guessed.\n",
    "The game rules is as below.\n",
    "\n",
    "1. Player need to guess a word.\n",
    "2. Player need to guess one letter each time.\n",
    "3. Only 3 trials are given if player cannot guess the letter correctly.\n",
    "4. If the letters guessed form the same word as the word in the list given in Step 1, player win the game. If not, after 3 trials, player lose the game.\n",
    "\n",
    "For example, given the word 'bad'. Player guess one letter, which is 'b'. So, left only 'a' and 'd'. If player choose a wrong letter, player is given until 3 times to try to guess a letter. After that, player will lose the game. But, if player choose correct letter, player win the game.\n"
   ]
  },
  {
   "cell_type": "code",
   "execution_count": 2,
   "metadata": {},
   "outputs": [
    {
     "name": "stdout",
     "output_type": "stream",
     "text": [
      "['_', '_', '_', '_', '_', '_']\n",
      "You have 3 guesses left\n",
      "Please guess one letter\n",
      "s\n",
      "Correct\n",
      "['s', '_', '_', '_', '_', '_']\n",
      "t\n",
      "Correct\n",
      "['s', 't', '_', '_', '_', '_']\n",
      "r\n",
      "Correct\n",
      "['s', 't', 'r', '_', '_', '_']\n",
      "o\n",
      "Correct\n",
      "['s', 't', 'r', 'o', '_', '_']\n",
      "n\n",
      "Correct\n",
      "['s', 't', 'r', 'o', 'n', '_']\n",
      "q\n",
      "Wrong\n",
      "You have 2 guesses left\n",
      "a\n",
      "Wrong\n",
      "You have 1 guesses left\n",
      "g\n",
      "Correct\n",
      "['s', 't', 'r', 'o', 'n', 'g']\n",
      "YOU WIN!\n",
      "The word is strong\n"
     ]
    }
   ],
   "source": [
    "from random import choice\n",
    "word = choice([\"pretty\", \"old\", \"young\", \"nice\", \"kind\", \"bad\", \"weak\", \"strong\", \"lazy\", \"weird\"])\n",
    "\n",
    "#initialization\n",
    "guesses = 3       # Number of guesses\n",
    "count = 0\n",
    "win = False\n",
    "\n",
    "#create a list for guesed_letters\n",
    "guessed_letters = []\n",
    "for c in word:\n",
    "    guessed_letters.append(c) #append every character into list guessed_letters\n",
    "    \n",
    "#create temporary word\n",
    "tempword = []\n",
    "for i in word:\n",
    "    tempword.append(\"_\")\n",
    "#TODO print the tempword\n",
    "print(tempword)\n",
    "print(\"You have\",guesses-count,\"guesses left\")\n",
    "print(\"Please guess one letter\")\n",
    "\n",
    "while count < guesses and not win == True:\n",
    "    if '_' not in tempword:\n",
    "        print('YOU WIN!')\n",
    "        win = True\n",
    "        break\n",
    "        \n",
    "    #TODO make the player input a letter\n",
    "    guess = None\n",
    "    guess = input()\n",
    "    \n",
    "    #TODO using if statement, if player guessed correct word display Correct, if not, display Wrong. \n",
    "    #You need to use for loop for this game, so that the word guessed by user is in the answer.\n",
    "    #Add the letter input by user to the guessed_letters variable. \n",
    "    #Reduce the amount of guessed left by using variable count.\n",
    "    \n",
    "    judge = [i for i, x in enumerate(guessed_letters) if x == guess]   \n",
    "    #if guess has the same letter in  guessed_letters, return it's(there) index.\n",
    "    \n",
    "    if judge == []:   #if there's no index returned, the guess is wrong.\n",
    "        print(\"Wrong\")\n",
    "        count += 1\n",
    "        print(\"You have\",guesses - count,\"guesses left\")\n",
    "        \n",
    "    else:   #if there's some index returned, use it(them) to change \"_\" into guessed letters and print tempword.\n",
    "        print(\"Correct\")\n",
    "        for k in judge:\n",
    "            tempword[k] = guess\n",
    "            print(tempword)\n",
    "    \n",
    "    if count == guesses:   #when 3 trials are used,the player loses the game\n",
    "        print('YOU LOSE!')\n",
    "        break\n",
    "print(\"The word is\", word)"
   ]
  },
  {
   "cell_type": "markdown",
   "metadata": {},
   "source": [
    "**BONUS**\n",
    "\n",
    "Add another player, which is Player 2, make Player 1 and Player 2 play in turns to guess the word."
   ]
  },
  {
   "cell_type": "code",
   "execution_count": 16,
   "metadata": {},
   "outputs": [
    {
     "name": "stdout",
     "output_type": "stream",
     "text": [
      "['_', '_', '_', '_']\n",
      "You have 3 guesses left\n",
      "It's your turn Player1,please guess one letter\n",
      "1\n",
      "Wrong\n",
      "You have 2 guesses left\n",
      "['_', '_', '_', '_']\n",
      "It's your turn Player2,please guess one letter\n",
      "2\n",
      "Wrong\n",
      "You have 1 guesses left\n",
      "['_', '_', '_', '_']\n",
      "It's your turn Player1,please guess one letter\n",
      "1\n",
      "Wrong\n",
      "You have 0 guesses left\n",
      "['_', '_', '_', '_']\n",
      "YOU LOSE!\n",
      "The word is kind\n"
     ]
    }
   ],
   "source": [
    "#TODO write your codes here\n",
    "guesses = 4                           #guesses are set to 4 for 2 player each have 2 chances.\n",
    "count = 0         \n",
    "win = False\n",
    "turns = 1                             #initialization turn\n",
    "\n",
    "from random import choice\n",
    "word = choice([\"pretty\", \"old\", \"young\", \"nice\", \"kind\", \"bad\", \"weak\", \"strong\", \"lazy\", \"weird\"])\n",
    "\n",
    "\n",
    "guessed_letters = []\n",
    "for c in word:\n",
    "    guessed_letters.append(c)\n",
    "    \n",
    "tempword = []\n",
    "for i in word:\n",
    "    tempword.append(\"_\")\n",
    "    \n",
    "print(tempword)\n",
    "print(\"You have\",guesses-count,\"guesses left\")\n",
    "print(\"It's your turn Player1,please guess one letter\")\n",
    "    \n",
    "while count < guesses and not win == True:\n",
    "    if '_' not in tempword:\n",
    "        print('YOU WIN!')\n",
    "        win = True\n",
    "        break\n",
    "        \n",
    "    guess = input()\n",
    "    judge = [i for i, x in enumerate(guessed_letters) if x == guess]\n",
    "    \n",
    "    if judge == []:\n",
    "        print(\"Wrong\")\n",
    "        count += 1\n",
    "        print(\"You have\",guesses-count,\"guesses left\")\n",
    "    else:\n",
    "        print(\"Correct\")\n",
    "        for k in judge:\n",
    "            tempword[k] = guess\n",
    "    turns += 1                                    #number of turns\n",
    "    print(tempword)\n",
    "    if count == guesses:\n",
    "        print('YOU LOSE!')\n",
    "        break\n",
    "    if turns % 2 == 1:                              #player turn controlled by even/odd number.\n",
    "        print(\"It's your turn Player1,please guess one letter\")\n",
    "    else:\n",
    "        print(\"It's your turn Player2,please guess one letter\")\n",
    "\n",
    "print(\"The word is\", word)"
   ]
  },
  {
   "cell_type": "markdown",
   "metadata": {},
   "source": [
    "**Question 2**:\n",
    "\n",
    "How do you think you can improve your code above?"
   ]
  },
  {
   "cell_type": "markdown",
   "metadata": {},
   "source": [
    "**Answer**:\n",
    "1.The list that random word are chosen from, is too small. Although human being cannot write such a big list by    typing, we can take advantage of online dictionaries.\n",
    "2.{‘_’,‘_’,‘c’,‘_’} This kind of tempword is not‘reading friendly’. Maybe wee can change the output into   「 _ _ c _　」this kind."
   ]
  },
  {
   "cell_type": "code",
   "execution_count": null,
   "metadata": {},
   "outputs": [],
   "source": []
  }
 ],
 "metadata": {
  "kernelspec": {
   "display_name": "Python 3",
   "language": "python",
   "name": "python3"
  },
  "language_info": {
   "codemirror_mode": {
    "name": "ipython",
    "version": 3
   },
   "file_extension": ".py",
   "mimetype": "text/x-python",
   "name": "python",
   "nbconvert_exporter": "python",
   "pygments_lexer": "ipython3",
   "version": "3.7.3"
  }
 },
 "nbformat": 4,
 "nbformat_minor": 2
}
